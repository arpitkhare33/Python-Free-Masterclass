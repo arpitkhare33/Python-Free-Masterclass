{
 "cells": [
  {
   "cell_type": "code",
   "execution_count": 1,
   "id": "aba3eaa1",
   "metadata": {},
   "outputs": [
    {
     "name": "stdout",
     "output_type": "stream",
     "text": [
      "🐍\n"
     ]
    }
   ],
   "source": [
    "import emojis\n",
    "em = emojis.encode(\":snake:\")\n",
    "print(em)"
   ]
  },
  {
   "cell_type": "code",
   "execution_count": 2,
   "id": "0a61091d",
   "metadata": {},
   "outputs": [
    {
     "name": "stdout",
     "output_type": "stream",
     "text": [
      "Defaulting to user installation because normal site-packages is not writeable\n",
      "Requirement already satisfied: emojis in /home/arpit/.local/lib/python3.8/site-packages (0.6.0)\n",
      "\u001b[33mWARNING: You are using pip version 21.1.2; however, version 21.2.4 is available.\n",
      "You should consider upgrading via the '/usr/bin/python3 -m pip install --upgrade pip' command.\u001b[0m\n",
      "Note: you may need to restart the kernel to use updated packages.\n"
     ]
    }
   ],
   "source": [
    "pip install emojis"
   ]
  },
  {
   "cell_type": "code",
   "execution_count": 4,
   "id": "c39e392c",
   "metadata": {},
   "outputs": [
    {
     "name": "stdout",
     "output_type": "stream",
     "text": [
      "😄\n"
     ]
    }
   ],
   "source": [
    "em = emojis.encode(\":smile:\")\n",
    "print(em)"
   ]
  },
  {
   "cell_type": "code",
   "execution_count": 5,
   "id": "8fbafc33",
   "metadata": {},
   "outputs": [],
   "source": [
    "thisDict={'Name':\"Arpit\",\n",
    "         \"gender\":\"M\",\n",
    "         \"Contact\":123}"
   ]
  },
  {
   "cell_type": "code",
   "execution_count": 7,
   "id": "544f3def",
   "metadata": {},
   "outputs": [
    {
     "data": {
      "text/plain": [
       "'M'"
      ]
     },
     "execution_count": 7,
     "metadata": {},
     "output_type": "execute_result"
    }
   ],
   "source": [
    "thisDict[\"gender\"]"
   ]
  },
  {
   "cell_type": "code",
   "execution_count": 8,
   "id": "f6387cfb",
   "metadata": {},
   "outputs": [
    {
     "ename": "KeyError",
     "evalue": "'Gender'",
     "output_type": "error",
     "traceback": [
      "\u001b[0;31m---------------------------------------------------------------------------\u001b[0m",
      "\u001b[0;31mKeyError\u001b[0m                                  Traceback (most recent call last)",
      "\u001b[0;32m<ipython-input-8-4bce65d2be07>\u001b[0m in \u001b[0;36m<module>\u001b[0;34m\u001b[0m\n\u001b[0;32m----> 1\u001b[0;31m \u001b[0mthisDict\u001b[0m\u001b[0;34m[\u001b[0m\u001b[0;34m\"Gender\"\u001b[0m\u001b[0;34m]\u001b[0m\u001b[0;34m\u001b[0m\u001b[0;34m\u001b[0m\u001b[0m\n\u001b[0m",
      "\u001b[0;31mKeyError\u001b[0m: 'Gender'"
     ]
    }
   ],
   "source": [
    "thisDict[\"Gender\"]"
   ]
  },
  {
   "cell_type": "code",
   "execution_count": 9,
   "id": "d595a97f",
   "metadata": {},
   "outputs": [],
   "source": [
    "thisDict[\"Email\"]=\"xyz@abc.com\""
   ]
  },
  {
   "cell_type": "code",
   "execution_count": 11,
   "id": "7f4cd821",
   "metadata": {},
   "outputs": [
    {
     "name": "stdout",
     "output_type": "stream",
     "text": [
      "{'Name': 'Arpit', 'gender': 'M', 'Contact': 123, 'Email': 'xyz@abc.com'}\n"
     ]
    }
   ],
   "source": [
    "print(thisDict)"
   ]
  },
  {
   "cell_type": "code",
   "execution_count": 12,
   "id": "d1ffbe11",
   "metadata": {},
   "outputs": [
    {
     "data": {
      "text/plain": [
       "'xyz@abc.com'"
      ]
     },
     "execution_count": 12,
     "metadata": {},
     "output_type": "execute_result"
    }
   ],
   "source": [
    "thisDict[\"Email\"]"
   ]
  },
  {
   "cell_type": "code",
   "execution_count": 13,
   "id": "487f6bfc",
   "metadata": {},
   "outputs": [],
   "source": [
    "thisDict={'Name':\"Arpit\",\n",
    "         \"gender\":\"M\",\n",
    "         \"Contact\":123,\n",
    "         \"Contact\":5452}"
   ]
  },
  {
   "cell_type": "code",
   "execution_count": 14,
   "id": "05e7b841",
   "metadata": {},
   "outputs": [
    {
     "name": "stdout",
     "output_type": "stream",
     "text": [
      "{'Name': 'Arpit', 'gender': 'M', 'Contact': 5452}\n"
     ]
    }
   ],
   "source": [
    "print(thisDict)"
   ]
  },
  {
   "cell_type": "code",
   "execution_count": 15,
   "id": "acd619a1",
   "metadata": {},
   "outputs": [],
   "source": [
    "thisDict[\"Name\"]=\"Prashik\""
   ]
  },
  {
   "cell_type": "code",
   "execution_count": 16,
   "id": "f6a75928",
   "metadata": {},
   "outputs": [
    {
     "data": {
      "text/plain": [
       "{'Name': 'Prashik', 'gender': 'M', 'Contact': 5452}"
      ]
     },
     "execution_count": 16,
     "metadata": {},
     "output_type": "execute_result"
    }
   ],
   "source": [
    "thisDict"
   ]
  },
  {
   "cell_type": "code",
   "execution_count": 17,
   "id": "4f6e2ea2",
   "metadata": {},
   "outputs": [],
   "source": [
    "def intro():\n",
    "    print(\"Hello\")\n",
    "    print(\"How r u\")\n",
    "    print(\"hey\")"
   ]
  },
  {
   "cell_type": "code",
   "execution_count": 19,
   "id": "e93ab4a8",
   "metadata": {},
   "outputs": [
    {
     "name": "stdout",
     "output_type": "stream",
     "text": [
      "Hello\n",
      "How r u\n",
      "hey\n",
      "Hello\n",
      "How r u\n",
      "hey\n",
      "Hello\n",
      "How r u\n",
      "hey\n",
      "Hello\n",
      "How r u\n",
      "hey\n",
      "Hello\n",
      "How r u\n",
      "hey\n"
     ]
    }
   ],
   "source": [
    "intro()\n",
    "intro()\n",
    "intro()\n",
    "intro()\n",
    "intro()"
   ]
  },
  {
   "cell_type": "code",
   "execution_count": 24,
   "id": "0e896fec",
   "metadata": {},
   "outputs": [],
   "source": [
    "def intro(*name):\n",
    "    print(f\"Hello {name[2]}\")\n",
    "    print(f\"How r u {name[1]}\")\n",
    "    print(f\"hey {name[0]}\")\n",
    "    "
   ]
  },
  {
   "cell_type": "code",
   "execution_count": 22,
   "id": "de5ec36f",
   "metadata": {},
   "outputs": [
    {
     "name": "stdout",
     "output_type": "stream",
     "text": [
      "Enter your name:Prashik\n",
      "Hello Prashik\n",
      "How r u Prashik\n",
      "hey Prashik\n"
     ]
    }
   ],
   "source": [
    "userName= input(\"Enter your name:\")\n",
    "intro(userName)"
   ]
  },
  {
   "cell_type": "code",
   "execution_count": 25,
   "id": "425f1577",
   "metadata": {},
   "outputs": [
    {
     "name": "stdout",
     "output_type": "stream",
     "text": [
      "Hello AB\n",
      "How r u Abhishek\n",
      "hey Arpit\n"
     ]
    }
   ],
   "source": [
    "intro(\"Arpit\",\"Abhishek\",\"AB\")"
   ]
  },
  {
   "cell_type": "markdown",
   "id": "c6c83db5",
   "metadata": {},
   "source": [
    "# Building an Arithmetic calculator"
   ]
  },
  {
   "cell_type": "code",
   "execution_count": 32,
   "id": "50705b93",
   "metadata": {},
   "outputs": [],
   "source": [
    "def add(num1,num2):\n",
    "    return num1+num2\n",
    "def sub(num1,num2):\n",
    "    return num1-num2\n",
    "def mult(num1,num2):\n",
    "    return num1*num2\n",
    "def div(num1,num2): \n",
    "    return num1/num2"
   ]
  },
  {
   "cell_type": "code",
   "execution_count": 37,
   "id": "572696cb",
   "metadata": {},
   "outputs": [
    {
     "name": "stdout",
     "output_type": "stream",
     "text": [
      "Enter the number: 15\n",
      "Enter the number: 14\n",
      "1. Addition of two numbers\n",
      "2. Subtraction \n",
      "3. Multiplication\n",
      "4. Division\n",
      "5. Exit the loop and go home!\n",
      "Enter your choice: 5\n"
     ]
    }
   ],
   "source": [
    "while True:\n",
    "    num1=int(input(\"Enter the number: \"))\n",
    "    num2=int(input(\"Enter the number: \"))\n",
    "    print(\"1. Addition of two numbers\")\n",
    "    print(\"2. Subtraction \")\n",
    "    print(\"3. Multiplication\")\n",
    "    print(\"4. Division\")\n",
    "    print(\"5. Exit the loop and go home!\")\n",
    "    ch = input(\"Enter your choice: \")\n",
    "    if(ch=='1'):\n",
    "        print(add(num1,num2))\n",
    "    elif(ch=='2'):\n",
    "        print(sub(num1,num2))\n",
    "    elif(ch=='3'):\n",
    "        print(mult(num1,num2))\n",
    "    elif(ch=='4'):\n",
    "        print(div(num1,num2))\n",
    "    elif(ch=='5'):\n",
    "        break"
   ]
  },
  {
   "cell_type": "code",
   "execution_count": 28,
   "id": "cca5186c",
   "metadata": {},
   "outputs": [
    {
     "name": "stdout",
     "output_type": "stream",
     "text": [
      "Enter the number: 45\n",
      "Enter the number: 87\n"
     ]
    },
    {
     "data": {
      "text/plain": [
       "132"
      ]
     },
     "execution_count": 28,
     "metadata": {},
     "output_type": "execute_result"
    }
   ],
   "source": [
    "num1=int(input(\"Enter the number: \"))\n",
    "num2=int(input(\"Enter the number: \"))\n",
    "add(num1,num2)"
   ]
  },
  {
   "cell_type": "code",
   "execution_count": 35,
   "id": "97120cbc",
   "metadata": {},
   "outputs": [
    {
     "ename": "ValueError",
     "evalue": "invalid literal for int() with base 10: 'hhuhuhuuu'",
     "output_type": "error",
     "traceback": [
      "\u001b[0;31m---------------------------------------------------------------------------\u001b[0m",
      "\u001b[0;31mValueError\u001b[0m                                Traceback (most recent call last)",
      "\u001b[0;32m<ipython-input-35-b25306eeb04f>\u001b[0m in \u001b[0;36m<module>\u001b[0;34m\u001b[0m\n\u001b[0;32m----> 1\u001b[0;31m \u001b[0mint\u001b[0m\u001b[0;34m(\u001b[0m\u001b[0;34m\"hhuhuhuuu\"\u001b[0m\u001b[0;34m)\u001b[0m\u001b[0;34m\u001b[0m\u001b[0;34m\u001b[0m\u001b[0m\n\u001b[0m",
      "\u001b[0;31mValueError\u001b[0m: invalid literal for int() with base 10: 'hhuhuhuuu'"
     ]
    }
   ],
   "source": [
    "int(\"hhuhuhuuu\")"
   ]
  },
  {
   "cell_type": "code",
   "execution_count": null,
   "id": "081c561f",
   "metadata": {},
   "outputs": [],
   "source": []
  }
 ],
 "metadata": {
  "kernelspec": {
   "display_name": "Python 3",
   "language": "python",
   "name": "python3"
  },
  "language_info": {
   "codemirror_mode": {
    "name": "ipython",
    "version": 3
   },
   "file_extension": ".py",
   "mimetype": "text/x-python",
   "name": "python",
   "nbconvert_exporter": "python",
   "pygments_lexer": "ipython3",
   "version": "3.8.10"
  }
 },
 "nbformat": 4,
 "nbformat_minor": 5
}
